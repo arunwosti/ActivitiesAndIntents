{
  "nbformat": 4,
  "nbformat_minor": 0,
  "metadata": {
    "colab": {
      "provenance": [],
      "authorship_tag": "ABX9TyNyy8Ncn+qDH7mbPPwebIad",
      "include_colab_link": true
    },
    "kernelspec": {
      "name": "python3",
      "display_name": "Python 3"
    },
    "language_info": {
      "name": "python"
    }
  },
  "cells": [
    {
      "cell_type": "markdown",
      "metadata": {
        "id": "view-in-github",
        "colab_type": "text"
      },
      "source": [
        "<a href=\"https://colab.research.google.com/github/arunwosti/ActivitiesAndIntents/blob/master/Untitled3.ipynb\" target=\"_parent\"><img src=\"https://colab.research.google.com/assets/colab-badge.svg\" alt=\"Open In Colab\"/></a>"
      ]
    },
    {
      "cell_type": "code",
      "execution_count": null,
      "metadata": {
        "id": "qsc8ILbDrOem"
      },
      "outputs": [],
      "source": []
    },
    {
      "cell_type": "markdown",
      "source": [
        "Class Assignment week3\n"
      ],
      "metadata": {
        "id": "UkgOQvqtrRP0"
      }
    },
    {
      "cell_type": "code",
      "source": [
        "# Question 1"
      ],
      "metadata": {
        "id": "TYplv64-rUmo"
      },
      "execution_count": 1,
      "outputs": []
    },
    {
      "cell_type": "code",
      "source": [
        "class Vehicle:\n",
        "  def __init__(self, name_of_vehicle, max_speed, average_of_vehicle):\n",
        "    self.name_of_vehicle = name_of_vehicle\n",
        "    self.max_speed = max_speed\n",
        "    self.average_of_vehicle = average_of_vehicle\n",
        ""
      ],
      "metadata": {
        "id": "wM25WmaFrYmj"
      },
      "execution_count": 17,
      "outputs": []
    },
    {
      "cell_type": "code",
      "source": [
        "# Question 2"
      ],
      "metadata": {
        "id": "nu3QuklYr8_W"
      },
      "execution_count": 3,
      "outputs": []
    },
    {
      "cell_type": "code",
      "source": [
        "class Car(Vehicle):   #creating child class\n",
        "  def __init__(self, name_of_vehicle, max_speed, average_of_vehicle):\n",
        "    super().__init__(name_of_vehicle, max_speed, average_of_vehicle)\n",
        "    self.name_of_vehicle = name_of_vehicle\n",
        "    self.max_speed = max_speed\n",
        "    self.average_of_vehicle = average_of_vehicle\n",
        "\n",
        "  def seating_capacity(self, capacity):\n",
        "    return f\"Vehicle name: {self.name_of_vehicle} and its capacity: {capacity}\"\n",
        "\n",
        "car1 = Car(\"Mustang\", 200, 10)\n",
        "result1 = car1.seating_capacity(4)\n",
        "print(result1)"
      ],
      "metadata": {
        "colab": {
          "base_uri": "https://localhost:8080/"
        },
        "id": "ybGsoY5-r--d",
        "outputId": "5c33edf2-d29c-4eec-af2e-3bdf4dabf726"
      },
      "execution_count": 23,
      "outputs": [
        {
          "output_type": "stream",
          "name": "stdout",
          "text": [
            "Vehicle name: Mustang and its capacity: 4\n"
          ]
        }
      ]
    },
    {
      "cell_type": "code",
      "source": [
        "#Question 3"
      ],
      "metadata": {
        "id": "bPaK-LAIvt6F"
      },
      "execution_count": 32,
      "outputs": []
    },
    {
      "cell_type": "code",
      "source": [
        "Multiple inheritance is a feature in object-oriented programming languages that allows a class to inherit attributes\n",
        "and methods from more than one base class. It enables the reusability of code by deriving properties from multiple parent classes.\n",
        "\n"
      ],
      "metadata": {
        "colab": {
          "base_uri": "https://localhost:8080/"
        },
        "id": "k02VL-EKvx52",
        "outputId": "fff1ce17-6aa6-4761-fc3f-bc9fdf0eab2f"
      },
      "execution_count": 30,
      "outputs": [
        {
          "output_type": "stream",
          "name": "stdout",
          "text": [
            "Mammals can give direct birth.\n",
            "Winged animals can flap.\n"
          ]
        }
      ]
    },
    {
      "cell_type": "code",
      "source": [
        "# Multiple Inheritance Example\n",
        "class Mammal:\n",
        "    def mammal_info(self):\n",
        "        print(\"Mammals can give direct birth.\")\n",
        "\n",
        "class WingedAnimal:\n",
        "    def winged_animal_info(self):\n",
        "        print(\"Winged animals can flap.\")\n",
        "\n",
        "# Create a class which will inherit the property of both classes Mammal and WingedAnimal\n",
        "class Bat(Mammal, WingedAnimal):\n",
        "    pass\n",
        "\n",
        "# Create an object of the Bat class\n",
        "b1 = Bat()\n",
        "b1.mammal_info()\n",
        "b1.winged_animal_info()#"
      ],
      "metadata": {
        "colab": {
          "base_uri": "https://localhost:8080/"
        },
        "id": "fADmzN1kv1Kz",
        "outputId": "28aa585e-0812-4c9f-f4be-1bdd14681b77"
      },
      "execution_count": 33,
      "outputs": [
        {
          "output_type": "stream",
          "name": "stdout",
          "text": [
            "Mammals can give direct birth.\n",
            "Winged animals can flap.\n"
          ]
        }
      ]
    },
    {
      "cell_type": "code",
      "source": [
        "# Question 4"
      ],
      "metadata": {
        "id": "J-H6nlQOxg5Q"
      },
      "execution_count": 34,
      "outputs": []
    },
    {
      "cell_type": "code",
      "source": [
        "#Task 1\n",
        "class Person():\n",
        "  def __init__(self, name, age, gender):  # Constructor is unique function which is automatically called when creating object\n",
        "    self.name = name\n",
        "    self.__age = age # Encapsulating\n",
        "    self.gender = gender\n",
        "\n",
        "  def say_hello(self):\n",
        "    return f\"Hello from {self.name}\"\n",
        "\n",
        "  def is_adult(self):\n",
        "    if(self.__age >= 18):\n",
        "      return \"True\"\n",
        "    else:\n",
        "      return \"False\"\n",
        "\n",
        "# Task 2\n",
        "class Student(Person):\n",
        "  def __init__(self, student_id, course, name, __age, gender):\n",
        "    super().__init__( name, __age, gender)\n",
        "    self.name = name\n",
        "    self.student_id = student_id\n",
        "    self.course = course\n",
        "\n",
        "  def show_student(self):\n",
        "    return f\"The student name is {self.name} with student id  {self.student_id} is enrolled for {self.course}\"\n",
        "\n",
        "#Task 3\n",
        "class Teacher(Person):\n",
        "  def __init__(self, teacher_id, subject, name, __age, gender):\n",
        "    super().__init__(name, __age, gender)\n",
        "    self.name = name\n",
        "    self.teacher_id = teacher_id\n",
        "    self.subject = subject\n",
        "\n",
        "# Polymorphism\n",
        "  def say_hello(self):\n",
        "    return f\"Hello from {self.name} with teacher id {self.teacher_id} who teaches {self.subject}\"\n",
        "\n",
        "# task 4\n",
        "# Variable age is encapsulated i.e _age"
      ],
      "metadata": {
        "id": "kS-JbzPayGnn"
      },
      "execution_count": 55,
      "outputs": []
    },
    {
      "cell_type": "code",
      "source": [
        "person1 = Person(\"Arun\", 25, \"Male\")\n",
        "print(person1.say_hello())\n",
        "person1.is_adult"
      ],
      "metadata": {
        "colab": {
          "base_uri": "https://localhost:8080/"
        },
        "id": "Se_gc_h91JDg",
        "outputId": "2db853c6-9058-452f-af59-ff6f7551665f"
      },
      "execution_count": 40,
      "outputs": [
        {
          "output_type": "stream",
          "name": "stdout",
          "text": [
            "Hello from Arun\n"
          ]
        },
        {
          "output_type": "execute_result",
          "data": {
            "text/plain": [
              "<bound method Person.is_adult of <__main__.Person object at 0x7b87011bd3c0>>"
            ]
          },
          "metadata": {},
          "execution_count": 40
        }
      ]
    },
    {
      "cell_type": "code",
      "source": [
        "student1 = Student(\"Arun\",25, \"Male\",101, \"FSDM\")\n",
        "print(student1.show_student())"
      ],
      "metadata": {
        "colab": {
          "base_uri": "https://localhost:8080/"
        },
        "id": "9Zb-fjw41Zoo",
        "outputId": "62427ad7-a467-430b-aa85-eb243cf8bc20"
      },
      "execution_count": 51,
      "outputs": [
        {
          "output_type": "stream",
          "name": "stdout",
          "text": [
            "The student name is Male with student id  Arun is enrolled for 25\n"
          ]
        }
      ]
    },
    {
      "cell_type": "code",
      "source": [
        "teacher1 = Teacher(\"Ishant\", 50, \"Male\", 201, \"Python\")\n",
        "print(teacher1.say_hello())"
      ],
      "metadata": {
        "colab": {
          "base_uri": "https://localhost:8080/"
        },
        "id": "QZsOlagX4us4",
        "outputId": "1f97040e-99f2-426d-9b38-f776c135bb41"
      },
      "execution_count": 56,
      "outputs": [
        {
          "output_type": "stream",
          "name": "stdout",
          "text": [
            "Hello from Male with teacher id Ishant who teaches 50\n"
          ]
        }
      ]
    }
  ]
}